{
 "cells": [
  {
   "cell_type": "code",
   "execution_count": 51,
   "id": "00aefb04",
   "metadata": {},
   "outputs": [],
   "source": [
    "import numpy as np \n",
    "import pandas as pd \n",
    "from sklearn.feature_selection import RFECV\n",
    "from sklearn.model_selection import train_test_split\n",
    "from sklearn.preprocessing import StandardScaler\n",
    "from sklearn.metrics import accuracy_score,precision_score\n",
    "from sklearn.linear_model import LogisticRegression"
   ]
  },
  {
   "cell_type": "code",
   "execution_count": 52,
   "id": "1190abbe",
   "metadata": {},
   "outputs": [],
   "source": [
    "df_data=pd.read_csv('breast-cancer.csv')\n"
   ]
  },
  {
   "cell_type": "code",
   "execution_count": 53,
   "id": "14f35edd",
   "metadata": {},
   "outputs": [],
   "source": [
    "df_data = df_data.drop([\"id\"], axis = 1)\n",
    "df_data.diagnosis.replace([\"M\", \"B\"], [1, 0], inplace = True)"
   ]
  },
  {
   "cell_type": "code",
   "execution_count": 54,
   "id": "4b577e1c",
   "metadata": {},
   "outputs": [],
   "source": [
    "features=df_data[['concave points_worst','perimeter_worst','concave points_mean','radius_worst','perimeter_mean','area_worst','radius_mean','area_mean','concavity_mean','concavity_worst','compactness_mean','compactness_worst','radius_se','perimeter_se','area_se','texture_worst','smoothness_worst','symmetry_worst','texture_mean','concave points_se','smoothness_mean','symmetry_mean','fractal_dimension_worst','compactness_se','concavity_se','fractal_dimension_se','symmetry_se','texture_se','fractal_dimension_mean','smoothness_se']]\n",
    "diagnosis = df_data[[\"diagnosis\"]]"
   ]
  },
  {
   "cell_type": "code",
   "execution_count": 55,
   "id": "03d59f45",
   "metadata": {},
   "outputs": [],
   "source": [
    "x_train, x_test, y_train, y_test = train_test_split(features, diagnosis, test_size=0.3, random_state=42)"
   ]
  },
  {
   "cell_type": "code",
   "execution_count": 56,
   "id": "f3f7583d",
   "metadata": {},
   "outputs": [],
   "source": [
    "scaler = StandardScaler()\n",
    "scaler.fit(x_train)\n",
    "x_train = scaler.transform(x_train)\n",
    "x_train = pd.DataFrame(x_train, columns = features.columns)"
   ]
  },
  {
   "cell_type": "code",
   "execution_count": 58,
   "id": "e01f0d76",
   "metadata": {},
   "outputs": [],
   "source": [
    "clf_lr = LogisticRegression() \n",
    "rfecv_lr = RFECV(estimator=clf_lr, step=1, cv=5,scoring='accuracy')   #5-fold cross-validation\n",
    "rfecv_lr = rfecv_lr.fit(x_train, y_train.values.flatten())"
   ]
  },
  {
   "cell_type": "code",
   "execution_count": 61,
   "id": "58229b66",
   "metadata": {},
   "outputs": [],
   "source": [
    "features_lr = df_data[[\"radius_mean\", \"texture_mean\", \"perimeter_mean\", \"area_mean\",\n",
    "       \"compactness_mean\", \"concavity_mean\", \"concave points_mean\",\n",
    "       \"symmetry_mean\", \"radius_se\", \"perimeter_se\", \"area_se\",\n",
    "       \"smoothness_se\", \"compactness_se\", \"concave points_se\", \"symmetry_se\",\n",
    "       \"fractal_dimension_se\", \"radius_worst\", \"texture_worst\",\n",
    "       \"perimeter_worst\", \"area_worst\", \"smoothness_worst\", \"concavity_worst\",\n",
    "       \"concave points_worst\", \"symmetry_worst\"]]"
   ]
  },
  {
   "cell_type": "code",
   "execution_count": 62,
   "id": "d3a1e009",
   "metadata": {},
   "outputs": [],
   "source": [
    "x_train_lr, x_test_lr, y_train_lr, y_test_lr = train_test_split(features_lr,   \n",
    "    diagnosis, test_size=0.30, random_state=42)"
   ]
  },
  {
   "cell_type": "code",
   "execution_count": 63,
   "id": "662e3a41",
   "metadata": {},
   "outputs": [
    {
     "name": "stdout",
     "output_type": "stream",
     "text": [
      "Accuracy Score 0.9707602339181286\n",
      "Precision Score 0.967741935483871\n"
     ]
    },
    {
     "name": "stderr",
     "output_type": "stream",
     "text": [
      "C:\\Users\\Predator\\anaconda3\\lib\\site-packages\\sklearn\\linear_model\\_logistic.py:763: ConvergenceWarning: lbfgs failed to converge (status=1):\n",
      "STOP: TOTAL NO. of ITERATIONS REACHED LIMIT.\n",
      "\n",
      "Increase the number of iterations (max_iter) or scale the data as shown in:\n",
      "    https://scikit-learn.org/stable/modules/preprocessing.html\n",
      "Please also refer to the documentation for alternative solver options:\n",
      "    https://scikit-learn.org/stable/modules/linear_model.html#logistic-regression\n",
      "  n_iter_i = _check_optimize_result(\n"
     ]
    }
   ],
   "source": [
    "clf_lr_2= clf_lr.fit(x_train_lr, y_train_lr.values.flatten())\n",
    "ac_rfecv_lr = accuracy_score(y_test_lr, clf_lr_2.predict(x_test_lr))\n",
    "pre_rfecv_lr = precision_score(y_test_lr, clf_lr_2.predict(x_test_lr))\n",
    "print(\"Accuracy Score\", ac_rfecv_lr)\n",
    "print(\"Precision Score\", pre_rfecv_lr)"
   ]
  },
  {
   "cell_type": "code",
   "execution_count": 67,
   "id": "106fd7f0",
   "metadata": {},
   "outputs": [],
   "source": [
    "predictions=clf_lr_2.predict(x_test_lr)"
   ]
  },
  {
   "cell_type": "code",
   "execution_count": 69,
   "id": "0b26c272",
   "metadata": {},
   "outputs": [
    {
     "data": {
      "text/plain": [
       "0.9707602339181286"
      ]
     },
     "execution_count": 69,
     "metadata": {},
     "output_type": "execute_result"
    }
   ],
   "source": [
    "accuracy_score(y_test_lr,predictions)"
   ]
  },
  {
   "cell_type": "code",
   "execution_count": 70,
   "id": "f8264e5e",
   "metadata": {},
   "outputs": [],
   "source": [
    "import pickle"
   ]
  },
  {
   "cell_type": "code",
   "execution_count": 73,
   "id": "729b891a",
   "metadata": {},
   "outputs": [],
   "source": [
    "pickle.dump(clf_lr_2,open('Breast.pkl','wb'))"
   ]
  }
 ],
 "metadata": {
  "kernelspec": {
   "display_name": "Python 3 (ipykernel)",
   "language": "python",
   "name": "python3"
  },
  "language_info": {
   "codemirror_mode": {
    "name": "ipython",
    "version": 3
   },
   "file_extension": ".py",
   "mimetype": "text/x-python",
   "name": "python",
   "nbconvert_exporter": "python",
   "pygments_lexer": "ipython3",
   "version": "3.9.7"
  }
 },
 "nbformat": 4,
 "nbformat_minor": 5
}
